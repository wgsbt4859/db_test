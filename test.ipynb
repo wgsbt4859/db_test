{
 "cells": [
  {
   "cell_type": "code",
   "execution_count": 1,
   "id": "f7153506-b30e-494a-b826-97af133d2d66",
   "metadata": {},
   "outputs": [
    {
     "name": "stdout",
     "output_type": "stream",
     "text": [
      "Collecting mysqlclient\n",
      "  Downloading mysqlclient-2.1.1-cp39-cp39-win_amd64.whl (178 kB)\n",
      "Installing collected packages: mysqlclient\n",
      "Successfully installed mysqlclient-2.1.1\n"
     ]
    }
   ],
   "source": [
    "!pip install mysqlclient"
   ]
  },
  {
   "cell_type": "code",
   "execution_count": 2,
   "id": "2d804370-f8bb-4a1f-bdce-a7ede374e795",
   "metadata": {},
   "outputs": [],
   "source": [
    "import MySQLdb"
   ]
  },
  {
   "cell_type": "code",
   "execution_count": 7,
   "id": "1534808f-24e3-407b-9225-85dd8f7ec85d",
   "metadata": {},
   "outputs": [
    {
     "name": "stdout",
     "output_type": "stream",
     "text": [
      "(1, 'タロー', 25)\n",
      "(2, 'ジロー', 23)\n",
      "(3, 'サブロー', 21)\n"
     ]
    }
   ],
   "source": [
    "#connection settings\n",
    "\n",
    "connection = MySQLdb.connect(\n",
    "    host=\"localhost\",\n",
    "    user=\"root\",\n",
    "    passwd=\"y7play84gol\",\n",
    "    db=\"python_db\",\n",
    "    charset=\"utf8\"\n",
    ")\n",
    "\n",
    "cursor = connection.cursor()\n",
    "\n",
    "#テーブル初期化\n",
    "cursor.execute(\"DROP TABLE IF EXISTS name_age_list\")\n",
    "\n",
    "cursor.execute(\n",
    "    \"CREATE TABLE name_age_list(id INT(11) AUTO_INCREMENT NOT NULL, name VARCHAR(30) NOT NULL COLLATE utf8mb4_unicode_ci, age INT(3) NOT NULL, PRIMARY KEY (id))\"\n",
    ")\n",
    "\n",
    "cursor.execute(\n",
    "    \"\"\"\n",
    "    INSERT INTO name_age_list (name, age)\n",
    "    VALUES ('タロー', '25'),\n",
    "    ('ジロー', '23'),\n",
    "    ('サブロー', '21')\n",
    "    \"\"\"\n",
    ")\n",
    "\n",
    "cursor.execute(\"SELECT * FROM name_age_list\")\n",
    "\n",
    "for row in cursor:\n",
    "    print(row)\n",
    "    \n",
    "\n",
    "\n",
    "connection.commit()\n",
    "connection.close()"
   ]
  },
  {
   "cell_type": "code",
   "execution_count": 10,
   "id": "e815c443-91f5-4a37-b8f8-adaa5aa11be4",
   "metadata": {},
   "outputs": [
    {
     "name": "stdout",
     "output_type": "stream",
     "text": [
      "(1, 'タロー', 25)\n",
      "(2, 'ジロー', 23)\n",
      "(3, 'サブロー', 21)\n"
     ]
    }
   ],
   "source": [
    "connection = MySQLdb.connect(\n",
    "    host=\"localhost\",\n",
    "    user=\"root\",\n",
    "    passwd=\"y7play84gol\",\n",
    "    db=\"python_db\",\n",
    "    charset=\"utf8\"\n",
    ")\n",
    "\n",
    "cur=connection.cursor()\n",
    "\n",
    "cur.execute(\"select * from name_age_list\")\n",
    "\n",
    "for row in cur:\n",
    "    print(row)\n",
    "    \n",
    "connection.commit()\n",
    "connection.close()"
   ]
  },
  {
   "cell_type": "code",
   "execution_count": null,
   "id": "995887e7-6609-445e-ab45-d357696eae38",
   "metadata": {},
   "outputs": [],
   "source": []
  }
 ],
 "metadata": {
  "kernelspec": {
   "display_name": "Python 3 (ipykernel)",
   "language": "python",
   "name": "python3"
  },
  "language_info": {
   "codemirror_mode": {
    "name": "ipython",
    "version": 3
   },
   "file_extension": ".py",
   "mimetype": "text/x-python",
   "name": "python",
   "nbconvert_exporter": "python",
   "pygments_lexer": "ipython3",
   "version": "3.9.12"
  }
 },
 "nbformat": 4,
 "nbformat_minor": 5
}
